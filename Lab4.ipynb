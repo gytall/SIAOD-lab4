{
 "cells": [
  {
   "cell_type": "markdown",
   "id": "db4b50f0",
   "metadata": {
    "id": "db4b50f0"
   },
   "source": [
    "# Лабораторная работа №4"
   ]
  },
  {
   "cell_type": "markdown",
   "id": "5194104a",
   "metadata": {},
   "source": [
    "### Выполнил студент группы БПИ2303 Григорян Илья Мурадович \n",
    "- - -"
   ]
  },
  {
   "cell_type": "markdown",
   "id": "43a8de1f",
   "metadata": {},
   "source": [
    "### Задание №1"
   ]
  },
  {
   "cell_type": "code",
   "execution_count": null,
   "id": "ca54f0d0",
   "metadata": {},
   "outputs": [],
   "source": [
    "import random\n",
    "import time  \n",
    "\n",
    "data = random.sample(range(1, 1000000), 10000)\n",
    "sorted_data = sorted(data)\n",
    "target = random.choice(sorted_data)"
   ]
  },
  {
   "cell_type": "code",
   "execution_count": null,
   "id": "f348e8a0",
   "metadata": {},
   "outputs": [],
   "source": [
    "\n",
    "def measure_time(alg, *args):\n",
    "    start_time = time.time()\n",
    "    result = alg(*args)\n",
    "    end_time = time.time()\n",
    "    execution_time = end_time - start_time\n",
    "    print(f\"{alg.__name__} выполнен за {execution_time:.6f} секунд\")\n",
    "    return result"
   ]
  },
  {
   "cell_type": "markdown",
   "id": "48152687",
   "metadata": {},
   "source": [
    "- - -\n",
    "Бинарный поиск"
   ]
  },
  {
   "cell_type": "code",
   "execution_count": null,
   "id": "091fbf12",
   "metadata": {},
   "outputs": [
    {
     "name": "stdout",
     "output_type": "stream",
     "text": [
      "Ищем элемент 113156 с помощью бинарного поиска\n",
      "binary_search выполнен за 0.000012 секунд\n",
      "Элемент найден на позиции: 1092\n"
     ]
    }
   ],
   "source": [
    "def binary_search(arr, item):\n",
    "    low = 0\n",
    "    high = len(arr) - 1\n",
    "\n",
    "    while low <= high:\n",
    "        mid = (low + high) // 2\n",
    "        guess = arr[mid]\n",
    "\n",
    "        if guess == item:\n",
    "            return mid\n",
    "        if guess > item:\n",
    "            high = mid - 1\n",
    "        else:\n",
    "            low = mid + 1\n",
    "\n",
    "    return None\n",
    "\n",
    "\n",
    "print(f\"Ищем элемент {target} с помощью бинарного поиска\")\n",
    "index = measure_time(binary_search, sorted_data, target)\n",
    "print(f\"Элемент найден на позиции: {index}\")"
   ]
  },
  {
   "cell_type": "markdown",
   "id": "491a2927",
   "metadata": {},
   "source": [
    "- - -\n",
    "Бинарное дерево"
   ]
  },
  {
   "cell_type": "code",
   "execution_count": null,
   "id": "94bf8b90",
   "metadata": {},
   "outputs": [
    {
     "name": "stdout",
     "output_type": "stream",
     "text": [
      "Поиск элемента в бинарном дереве\n",
      "search выполнен за 0.000019 секунд\n",
      "Элемент найден: Не найден\n"
     ]
    }
   ],
   "source": [
    "class Node:\n",
    "    def __init__(self, data):\n",
    "        self.left = None\n",
    "        self.right = None\n",
    "        self.value = data\n",
    "\n",
    "def insert(root, data):\n",
    "    if root is None:\n",
    "        return Node(data)\n",
    "    if root.value < data:\n",
    "        root.right = insert(root.right, data)\n",
    "    else:\n",
    "        root.left = insert(root.left, data)\n",
    "    return root\n",
    "\n",
    "def search(root, data):\n",
    "    if root is None or root.value == data:\n",
    "        return root\n",
    "    if root.value < data:\n",
    "        return search(root.right, data)\n",
    "    return search(root.left, data)\n",
    "\n",
    "\n",
    "root = None\n",
    "for num in sorted_data[:100]:\n",
    "    root = insert(root, num)\n",
    "print(\"Поиск элемента в бинарном дереве\")\n",
    "result = measure_time(search, root, target)\n",
    "print(f\"Элемент найден: {result.val if result else 'Не найден'}\")"
   ]
  },
  {
   "cell_type": "markdown",
   "id": "9764c745",
   "metadata": {},
   "source": [
    "- - -\n",
    "Фибоначчиев поиск"
   ]
  },
  {
   "cell_type": "code",
   "execution_count": null,
   "id": "88af17ff",
   "metadata": {},
   "outputs": [
    {
     "name": "stdout",
     "output_type": "stream",
     "text": [
      "\n",
      "Ищем элемент 113156 с помощью Фибоначчиева поиска\n",
      "fibonacci_search выполнен за 0.000029 секунд\n",
      "Элемент найден на позиции: 1092\n"
     ]
    }
   ],
   "source": [
    "def fibonacci_search(arr, target):\n",
    "    def fibonacci_gen(n):\n",
    "        fib = [0, 1]\n",
    "        while fib[-1] < n:\n",
    "            fib.append(fib[-1] + fib[-2])\n",
    "        return fib\n",
    "\n",
    "    fib = fibonacci_gen(len(arr))\n",
    "    offset = -1\n",
    "    n = len(arr)\n",
    "    while fib[-1] > 1:\n",
    "        i = min(offset + fib[-2], n - 1)\n",
    "        if arr[i] < target:\n",
    "            fib = fib[:-1]\n",
    "            offset = i\n",
    "        elif arr[i] > target:\n",
    "            fib = fib[:-2]\n",
    "        else:\n",
    "            return i\n",
    "    if fib[-1] == 1 and arr[offset + 1] == target:\n",
    "        return offset + 1\n",
    "    return -1\n",
    "\n",
    "\n",
    "\n",
    "print(f\"\\nИщем элемент {target} с помощью Фибоначчиева поиска\")\n",
    "index = measure_time(fibonacci_search, sorted_data, target)\n",
    "print(f\"Элемент найден на позиции: {index}\")"
   ]
  },
  {
   "cell_type": "markdown",
   "id": "4ebeee7e",
   "metadata": {},
   "source": [
    "- - -\n",
    "Интерполяционный поиск"
   ]
  },
  {
   "cell_type": "code",
   "execution_count": 6,
   "id": "4e0c77a4-b38f-41f4-bdef-5b39d7973a6c",
   "metadata": {},
   "outputs": [
    {
     "name": "stdout",
     "output_type": "stream",
     "text": [
      "\n",
      "Ищем элемент 113156 с помощью Интерполяционного поиска\n",
      "interpolation_search выполнен за 0.000011 секунд\n",
      "Элемент найден на позиции: 1092\n"
     ]
    }
   ],
   "source": [
    "def interpolation_search(arr, target):\n",
    "    left, right = 0, len(arr) - 1\n",
    "    while left <= right and arr[left] <= target <= arr[right]:\n",
    "        pos = left + ((target - arr[left]) * (right - left)) // (arr[right] - arr[left])\n",
    "        if arr[pos] == target:\n",
    "            return pos\n",
    "        elif arr[pos] < target:\n",
    "            left = pos + 1\n",
    "        else:\n",
    "            right = pos - 1\n",
    "    return -1\n",
    "\n",
    "\n",
    "\n",
    "print(f\"\\nИщем элемент {target} с помощью Интерполяционного поиска\")\n",
    "index = measure_time(interpolation_search, sorted_data, target)\n",
    "print(f\"Элемент найден на позиции: {index}\")"
   ]
  },
  {
   "cell_type": "markdown",
   "id": "16c75882",
   "metadata": {},
   "source": [
    "- - -\n",
    "### Задание №2"
   ]
  },
  {
   "cell_type": "markdown",
   "id": "5f7feee8",
   "metadata": {},
   "source": [
    "- - -\n",
    "Простое рехэширование"
   ]
  },
  {
   "cell_type": "code",
   "execution_count": null,
   "id": "b4cae743",
   "metadata": {},
   "outputs": [
    {
     "name": "stdout",
     "output_type": "stream",
     "text": [
      "\n",
      "Ищем элемент 666304 в хеш-таблице\n",
      "search выполнен за 0.000004 секунд\n",
      "Элемент найден в хеш-таблице на позиции: 6304\n"
     ]
    }
   ],
   "source": [
    "class HashTable:\n",
    "    def __init__(self, size):\n",
    "        self.size = size\n",
    "        self.table = [None] * size\n",
    "\n",
    "    def hash(self, key):\n",
    "        return key % self.size\n",
    "\n",
    "    def insert(self, key):\n",
    "        index = self.hash(key)\n",
    "        while self.table[index] is not None:\n",
    "            index = (index + 1) % self.size\n",
    "        self.table[index] = key\n",
    "\n",
    "    def search(self, key):\n",
    "        index = self.hash(key)\n",
    "        while self.table[index] is not None:\n",
    "            if self.table[index] == key:\n",
    "                return index\n",
    "            index = (index + 1) % self.size\n",
    "        return -1\n",
    "\n",
    "data = random.sample(range(1, 1000000), 10000)\n",
    "target = random.choice(data)\n",
    "\n",
    "hash_table = HashTable(10000)\n",
    "for key in data:\n",
    "    hash_table.insert(key)\n",
    "\n",
    "print(f\"\\nИщем элемент {target} в хеш-таблице\")\n",
    "index = measure_time(hash_table.search, target)\n",
    "if index != -1:\n",
    "    print(f\"Элемент найден в хеш-таблице на позиции: {index}\")\n",
    "else:\n",
    "    print(\"Элемент не найден.\")\n"
   ]
  },
  {
   "cell_type": "markdown",
   "id": "dd7c3487",
   "metadata": {},
   "source": [
    "- - -\n",
    "Рехэширование с помощью псевдослучайных чисел"
   ]
  },
  {
   "cell_type": "code",
   "execution_count": null,
   "id": "1234b9ce",
   "metadata": {},
   "outputs": [
    {
     "name": "stdout",
     "output_type": "stream",
     "text": [
      "\n",
      "Ищем элемент 8715 в хеш-таблице с использованием случайного перехеширования...\n",
      "search выполнен за 0.000009 секунд\n",
      "Элемент найден в хеш-таблице на позиции: 715\n"
     ]
    }
   ],
   "source": [
    "import random\n",
    "import time\n",
    "\n",
    "# Функция для замера времени\n",
    "def measure_time(func, *args):\n",
    "    start_time = time.time()\n",
    "    result = func(*args)\n",
    "    end_time = time.time()\n",
    "    execution_time = end_time - start_time\n",
    "    print(f\"{func.__name__} выполнен за {execution_time:.6f} секунд\")\n",
    "    return result\n",
    "\n",
    "class RandomRehashHashTable:\n",
    "    def __init__(self, size):\n",
    "        self.size = size\n",
    "        self.table = [None] * size\n",
    "\n",
    "    def hash(self, key):\n",
    "        return key % self.size\n",
    "\n",
    "    def random_step(self, key):\n",
    "        return (key * random.randint(1, 10)) % self.size\n",
    "\n",
    "    def insert(self, key):\n",
    "        index = self.hash(key)\n",
    "        step = self.random_step(key)\n",
    "        start_index = index  \n",
    "        while self.table[index] is not None:\n",
    "            index = (index + step) % self.size\n",
    "            if index == start_index:\n",
    "                raise Exception(\"Таблица полна, невозможно вставить элемент!\")\n",
    "        self.table[index] = key\n",
    "\n",
    "    def search(self, key):\n",
    "        index = self.hash(key)\n",
    "        step = self.random_step(key)\n",
    "        start_index = index  \n",
    "        while self.table[index] is not None:\n",
    "            if self.table[index] == key:\n",
    "                return index\n",
    "            index = (index + step) % self.size\n",
    "            if index == start_index:\n",
    "                break\n",
    "        return -1\n",
    "\n",
    "data = random.sample(range(1, 10000), 100)\n",
    "target = random.choice(data)\n",
    "\n",
    "hash_table = RandomRehashHashTable(1000)\n",
    "for key in data:\n",
    "    hash_table.insert(key)\n",
    "\n",
    "# Замер времени для поиска в хеш-таблице\n",
    "print(f\"\\nИщем элемент {target} в хеш-таблице с использованием случайного перехеширования...\")\n",
    "index = measure_time(hash_table.search, target)  \n",
    "if index != -1:\n",
    "    print(f\"Элемент найден в хеш-таблице на позиции: {index}\")\n",
    "else:\n",
    "    print(\"Элемент не найден.\")\n"
   ]
  },
  {
   "cell_type": "markdown",
   "id": "f6ff1716",
   "metadata": {},
   "source": [
    "- - -\n",
    "Метод цепочек"
   ]
  },
  {
   "cell_type": "code",
   "execution_count": null,
   "id": "87183128",
   "metadata": {},
   "outputs": [
    {
     "name": "stdout",
     "output_type": "stream",
     "text": [
      "Поиск элемента в хэш-таблице с цепочками\n",
      "search выполнен за 0.000005 секунд\n",
      "Элемент найден в цепочке: -1\n"
     ]
    }
   ],
   "source": [
    "class ChainingHashTable:\n",
    "    def __init__(self, size):\n",
    "        self.size = size\n",
    "        self.table = [[] for _ in range(size)]\n",
    "\n",
    "    def hash(self, key):\n",
    "        return key % self.size\n",
    "\n",
    "    def insert(self, key):\n",
    "        index = self.hash(key)\n",
    "        self.table[index].append(key)\n",
    "\n",
    "    def search(self, key):\n",
    "        index = self.hash(key)\n",
    "        for item in self.table[index]:\n",
    "            if item == key:\n",
    "                return index\n",
    "        return -1\n",
    "\n",
    "\n",
    "hash_table = ChainingHashTable(100)\n",
    "for num in sorted_data[:1000]:\n",
    "    hash_table.insert(num)\n",
    "print(\"Поиск элемента в хэш-таблице с цепочками\")\n",
    "index = measure_time(hash_table.search, target)\n",
    "print(f\"Элемент найден в цепочке: {index}\")\n"
   ]
  },
  {
   "cell_type": "markdown",
   "id": "ee7a8978",
   "metadata": {},
   "source": [
    "- - - \n",
    "Задача о 8 ферзях"
   ]
  },
  {
   "cell_type": "code",
   "execution_count": null,
   "id": "cbd6fa4e",
   "metadata": {},
   "outputs": [
    {
     "name": "stdout",
     "output_type": "stream",
     "text": [
      "  a b c d e f g h\n",
      "8 Q * * * * * * *\n",
      "7 * * * * Q * * *\n",
      "6 * * * * * * * Q\n",
      "5 * * * * * Q * *\n",
      "4 * * Q * * * * *\n",
      "3 * * * * * * Q *\n",
      "2 * Q * * * * * *\n",
      "1 * * * Q * * * *\n"
     ]
    }
   ],
   "source": [
    "def is_safe(board, row, col):\n",
    "    for i in range(col):\n",
    "        if board[i] == row or abs(board[i] - row) == abs(i - col):\n",
    "            return False\n",
    "    return True\n",
    "\n",
    "def solve_queens(board, col):\n",
    "    if col >= 8:\n",
    "        return True\n",
    "    for i in range(8):\n",
    "        if is_safe(board, i, col):\n",
    "            board[col] = i\n",
    "            if solve_queens(board, col + 1):\n",
    "                return True\n",
    "            board[col] = -1\n",
    "    return False\n",
    "\n",
    "def print_board(board):\n",
    "    print(\"  a b c d e f g h\")\n",
    "    \n",
    "    for i in range(8):\n",
    "        row = [\"Q\" if j == board[i] else \"*\" for j in range(8)]\n",
    "        print(f\"{8-i} {' '.join(row)}\")  # Строки с цифрами от 8 до 1\n",
    "\n",
    "board = [-1] * 8 \n",
    "if solve_queens(board, 0):  \n",
    "    print_board(board) \n",
    "else:\n",
    "    print(\"Решения не найдено\")\n"
   ]
  }
 ],
 "metadata": {
  "colab": {
   "provenance": []
  },
  "kernelspec": {
   "display_name": "Python 3 (ipykernel)",
   "language": "python",
   "name": "python3"
  },
  "language_info": {
   "codemirror_mode": {
    "name": "ipython",
    "version": 3
   },
   "file_extension": ".py",
   "mimetype": "text/x-python",
   "name": "python",
   "nbconvert_exporter": "python",
   "pygments_lexer": "ipython3",
   "version": "3.13.2"
  }
 },
 "nbformat": 4,
 "nbformat_minor": 5
}
